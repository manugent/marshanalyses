{
 "cells": [
  {
   "cell_type": "markdown",
   "metadata": {},
   "source": [
    "# Supplemental Materials"
   ]
  },
  {
   "cell_type": "markdown",
   "metadata": {
    "heading_collapsed": true
   },
   "source": [
    "## Installs"
   ]
  },
  {
   "cell_type": "code",
   "execution_count": 2,
   "metadata": {
    "hidden": true
   },
   "outputs": [],
   "source": [
    "#!pip install pandas\n",
    "#!pip install xlrd\n",
    "#!pip install seaborn\n",
    "#!pip install statsmodels\n",
    "#!pip install researchpy"
   ]
  },
  {
   "cell_type": "code",
   "execution_count": 3,
   "metadata": {
    "hidden": true
   },
   "outputs": [],
   "source": [
    "import os\n",
    "import random\n",
    "import pandas as pd\n",
    "import numpy as np\n",
    "import matplotlib.pyplot as plt\n",
    "import scipy.stats as stats\n",
    "import seaborn as sns\n",
    "import statsmodels.api as sm\n",
    "import statsmodels.stats.multicomp\n",
    "import researchpy as rp\n",
    "\n",
    "# Suppress Warnings (not in the blog post)\n",
    "import warnings\n",
    "warnings.filterwarnings(\"ignore\")"
   ]
  },
  {
   "cell_type": "code",
   "execution_count": 4,
   "metadata": {
    "hidden": true
   },
   "outputs": [],
   "source": [
    "from statsmodels.formula.api import ols\n",
    "from statsmodels.stats.anova import anova_lm\n",
    "from statsmodels.stats.multicomp import pairwise_tukeyhsd\n",
    "from statsmodels.stats.multicomp import pairwise_tukeyhsd"
   ]
  },
  {
   "cell_type": "code",
   "execution_count": 5,
   "metadata": {
    "hidden": true
   },
   "outputs": [],
   "source": [
    "from pandas import ExcelWriter\n",
    "from pandas import ExcelFile"
   ]
  },
  {
   "cell_type": "markdown",
   "metadata": {
    "heading_collapsed": true
   },
   "source": [
    "## SET Analyses"
   ]
  },
  {
   "cell_type": "markdown",
   "metadata": {
    "heading_collapsed": true,
    "hidden": true
   },
   "source": [
    "### SET Initial Change "
   ]
  },
  {
   "cell_type": "markdown",
   "metadata": {
    "heading_collapsed": true,
    "hidden": true
   },
   "source": [
    "#### Two-way ANOVA"
   ]
  },
  {
   "cell_type": "code",
   "execution_count": 192,
   "metadata": {
    "hidden": true
   },
   "outputs": [],
   "source": [
    "df = pd.read_excel (r'C:\\Users\\molli\\Dropbox\\Publish\\Working Graphs for Publication_revised.xlsx', sheet_name='SET Inset', index_col=0) \n",
    "df = pd.DataFrame(df, columns= ['plots','initialchanges','sediments','nutrients'])"
   ]
  },
  {
   "cell_type": "code",
   "execution_count": 193,
   "metadata": {
    "hidden": true
   },
   "outputs": [
    {
     "data": {
      "image/png": "[encoded data removed]",
      "text/plain": [
       "<Figure size 432x288 with 1 Axes>"
      ]
     },
     "metadata": {
      "needs_background": "light"
     },
     "output_type": "display_data"
    }
   ],
   "source": [
    "ax = sns.pointplot(x='sediments', y='initialchanges', hue='nutrients', data=df)"
   ]
  },
  {
   "cell_type": "code",
   "execution_count": 194,
   "metadata": {
    "hidden": true
   },
   "outputs": [],
   "source": [
    "#df.boxplot(column='initialchanges', by='sediments');\n",
    "#sns.violinplot(x=\"sediments\", y=\"initialchanges\", data=df);"
   ]
  },
  {
   "cell_type": "code",
   "execution_count": 195,
   "metadata": {
    "hidden": true,
    "scrolled": true
   },
   "outputs": [
    {
     "name": "stdout",
     "output_type": "stream",
     "text": [
      "\n",
      "\n"
     ]
    },
    {
     "data": {
      "text/html": [
       "<div>\n",
       "<style scoped>\n",
       "    .dataframe tbody tr th:only-of-type {\n",
       "        vertical-align: middle;\n",
       "    }\n",
       "\n",
       "    .dataframe tbody tr th {\n",
       "        vertical-align: top;\n",
       "    }\n",
       "\n",
       "    .dataframe thead th {\n",
       "        text-align: right;\n",
       "    }\n",
       "</style>\n",
       "<table border=\"1\" class=\"dataframe\">\n",
       "  <thead>\n",
       "    <tr style=\"text-align: right;\">\n",
       "      <th></th>\n",
       "      <th>N</th>\n",
       "      <th>Mean</th>\n",
       "      <th>SD</th>\n",
       "      <th>SE</th>\n",
       "      <th>95% Conf.</th>\n",
       "      <th>Interval</th>\n",
       "    </tr>\n",
       "    <tr>\n",
       "      <th>sediments</th>\n",
       "      <th></th>\n",
       "      <th></th>\n",
       "      <th></th>\n",
       "      <th></th>\n",
       "      <th></th>\n",
       "      <th></th>\n",
       "    </tr>\n",
       "  </thead>\n",
       "  <tbody>\n",
       "    <tr>\n",
       "      <th>0</th>\n",
       "      <td>12</td>\n",
       "      <td>-7.0769</td>\n",
       "      <td>5.8548</td>\n",
       "      <td>1.6901</td>\n",
       "      <td>-10.7968</td>\n",
       "      <td>-3.3569</td>\n",
       "    </tr>\n",
       "    <tr>\n",
       "      <th>30</th>\n",
       "      <td>12</td>\n",
       "      <td>13.1685</td>\n",
       "      <td>6.9540</td>\n",
       "      <td>2.0075</td>\n",
       "      <td>8.7501</td>\n",
       "      <td>17.5869</td>\n",
       "    </tr>\n",
       "    <tr>\n",
       "      <th>60</th>\n",
       "      <td>12</td>\n",
       "      <td>35.3083</td>\n",
       "      <td>10.0829</td>\n",
       "      <td>2.9107</td>\n",
       "      <td>28.9020</td>\n",
       "      <td>41.7147</td>\n",
       "    </tr>\n",
       "    <tr>\n",
       "      <th>90</th>\n",
       "      <td>12</td>\n",
       "      <td>50.2921</td>\n",
       "      <td>10.6150</td>\n",
       "      <td>3.0643</td>\n",
       "      <td>43.5477</td>\n",
       "      <td>57.0366</td>\n",
       "    </tr>\n",
       "    <tr>\n",
       "      <th>120</th>\n",
       "      <td>12</td>\n",
       "      <td>75.2247</td>\n",
       "      <td>10.3374</td>\n",
       "      <td>2.9842</td>\n",
       "      <td>68.6566</td>\n",
       "      <td>81.7928</td>\n",
       "    </tr>\n",
       "  </tbody>\n",
       "</table>\n",
       "</div>"
      ],
      "text/plain": [
       "            N     Mean       SD      SE  95% Conf.  Interval\n",
       "sediments                                                   \n",
       "0          12  -7.0769   5.8548  1.6901   -10.7968   -3.3569\n",
       "30         12  13.1685   6.9540  2.0075     8.7501   17.5869\n",
       "60         12  35.3083  10.0829  2.9107    28.9020   41.7147\n",
       "90         12  50.2921  10.6150  3.0643    43.5477   57.0366\n",
       "120        12  75.2247  10.3374  2.9842    68.6566   81.7928"
      ]
     },
     "execution_count": 195,
     "metadata": {},
     "output_type": "execute_result"
    }
   ],
   "source": [
    "rp.summary_cont(df['initialchanges'].groupby(df['sediments']))"
   ]
  },
  {
   "cell_type": "code",
   "execution_count": 199,
   "metadata": {
    "hidden": true
   },
   "outputs": [
    {
     "data": {
      "text/html": [
       "<table class=\"simpletable\">\n",
       "<caption>OLS Regression Results</caption>\n",
       "<tr>\n",
       "  <th>Dep. Variable:</th>     <td>initialchanges</td>  <th>  R-squared:         </th> <td>   0.941</td>\n",
       "</tr>\n",
       "<tr>\n",
       "  <th>Model:</th>                   <td>OLS</td>       <th>  Adj. R-squared:    </th> <td>   0.923</td>\n",
       "</tr>\n",
       "<tr>\n",
       "  <th>Method:</th>             <td>Least Squares</td>  <th>  F-statistic:       </th> <td>   51.23</td>\n",
       "</tr>\n",
       "<tr>\n",
       "  <th>Date:</th>             <td>Sun, 19 Jul 2020</td> <th>  Prob (F-statistic):</th> <td>6.71e-23</td>\n",
       "</tr>\n",
       "<tr>\n",
       "  <th>Time:</th>                 <td>18:06:18</td>     <th>  Log-Likelihood:    </th> <td> -204.03</td>\n",
       "</tr>\n",
       "<tr>\n",
       "  <th>No. Observations:</th>      <td>    60</td>      <th>  AIC:               </th> <td>   438.1</td>\n",
       "</tr>\n",
       "<tr>\n",
       "  <th>Df Residuals:</th>          <td>    45</td>      <th>  BIC:               </th> <td>   469.5</td>\n",
       "</tr>\n",
       "<tr>\n",
       "  <th>Df Model:</th>              <td>    14</td>      <th>                     </th>     <td> </td>   \n",
       "</tr>\n",
       "<tr>\n",
       "  <th>Covariance Type:</th>      <td>nonrobust</td>    <th>                     </th>     <td> </td>   \n",
       "</tr>\n",
       "</table>\n",
       "<table class=\"simpletable\">\n",
       "<tr>\n",
       "                    <td></td>                       <th>coef</th>     <th>std err</th>      <th>t</th>      <th>P>|t|</th>  <th>[0.025</th>    <th>0.975]</th>  \n",
       "</tr>\n",
       "<tr>\n",
       "  <th>Intercept</th>                             <td>   -6.5167</td> <td>    4.188</td> <td>   -1.556</td> <td> 0.127</td> <td>  -14.952</td> <td>    1.919</td>\n",
       "</tr>\n",
       "<tr>\n",
       "  <th>C(sediments)[T.30]</th>                    <td>   22.9712</td> <td>    5.923</td> <td>    3.878</td> <td> 0.000</td> <td>   11.042</td> <td>   34.901</td>\n",
       "</tr>\n",
       "<tr>\n",
       "  <th>C(sediments)[T.60]</th>                    <td>   45.2837</td> <td>    5.923</td> <td>    7.646</td> <td> 0.000</td> <td>   33.354</td> <td>   57.213</td>\n",
       "</tr>\n",
       "<tr>\n",
       "  <th>C(sediments)[T.90]</th>                    <td>   61.4206</td> <td>    5.923</td> <td>   10.370</td> <td> 0.000</td> <td>   49.491</td> <td>   73.350</td>\n",
       "</tr>\n",
       "<tr>\n",
       "  <th>C(sediments)[T.120]</th>                   <td>   85.0785</td> <td>    5.923</td> <td>   14.364</td> <td> 0.000</td> <td>   73.149</td> <td>   97.008</td>\n",
       "</tr>\n",
       "<tr>\n",
       "  <th>C(nutrients)[T.I]</th>                     <td>    0.6386</td> <td>    5.923</td> <td>    0.108</td> <td> 0.915</td> <td>  -11.291</td> <td>   12.568</td>\n",
       "</tr>\n",
       "<tr>\n",
       "  <th>C(nutrients)[T.L]</th>                     <td>   -2.3190</td> <td>    5.923</td> <td>   -0.392</td> <td> 0.697</td> <td>  -14.248</td> <td>    9.610</td>\n",
       "</tr>\n",
       "<tr>\n",
       "  <th>C(sediments)[T.30]:C(nutrients)[T.I]</th>  <td>   -2.5952</td> <td>    8.376</td> <td>   -0.310</td> <td> 0.758</td> <td>  -19.466</td> <td>   14.275</td>\n",
       "</tr>\n",
       "<tr>\n",
       "  <th>C(sediments)[T.60]:C(nutrients)[T.I]</th>  <td>    1.3578</td> <td>    8.376</td> <td>    0.162</td> <td> 0.872</td> <td>  -15.513</td> <td>   18.228</td>\n",
       "</tr>\n",
       "<tr>\n",
       "  <th>C(sediments)[T.90]:C(nutrients)[T.I]</th>  <td>   -9.3409</td> <td>    8.376</td> <td>   -1.115</td> <td> 0.271</td> <td>  -26.212</td> <td>    7.530</td>\n",
       "</tr>\n",
       "<tr>\n",
       "  <th>C(sediments)[T.120]:C(nutrients)[T.I]</th> <td>    1.6495</td> <td>    8.376</td> <td>    0.197</td> <td> 0.845</td> <td>  -15.221</td> <td>   18.520</td>\n",
       "</tr>\n",
       "<tr>\n",
       "  <th>C(sediments)[T.30]:C(nutrients)[T.L]</th>  <td>   -5.5823</td> <td>    8.376</td> <td>   -0.666</td> <td> 0.509</td> <td>  -22.453</td> <td>   11.288</td>\n",
       "</tr>\n",
       "<tr>\n",
       "  <th>C(sediments)[T.60]:C(nutrients)[T.L]</th>  <td>  -10.0534</td> <td>    8.376</td> <td>   -1.200</td> <td> 0.236</td> <td>  -26.924</td> <td>    6.817</td>\n",
       "</tr>\n",
       "<tr>\n",
       "  <th>C(sediments)[T.90]:C(nutrients)[T.L]</th>  <td>   -2.8139</td> <td>    8.376</td> <td>   -0.336</td> <td> 0.738</td> <td>  -19.685</td> <td>   14.057</td>\n",
       "</tr>\n",
       "<tr>\n",
       "  <th>C(sediments)[T.120]:C(nutrients)[T.L]</th> <td>   -9.9801</td> <td>    8.376</td> <td>   -1.191</td> <td> 0.240</td> <td>  -26.851</td> <td>    6.891</td>\n",
       "</tr>\n",
       "</table>\n",
       "<table class=\"simpletable\">\n",
       "<tr>\n",
       "  <th>Omnibus:</th>       <td> 1.433</td> <th>  Durbin-Watson:     </th> <td>   2.096</td>\n",
       "</tr>\n",
       "<tr>\n",
       "  <th>Prob(Omnibus):</th> <td> 0.488</td> <th>  Jarque-Bera (JB):  </th> <td>   1.207</td>\n",
       "</tr>\n",
       "<tr>\n",
       "  <th>Skew:</th>          <td>-0.156</td> <th>  Prob(JB):          </th> <td>   0.547</td>\n",
       "</tr>\n",
       "<tr>\n",
       "  <th>Kurtosis:</th>      <td> 2.379</td> <th>  Cond. No.          </th> <td>    21.8</td>\n",
       "</tr>\n",
       "</table><br/><br/>Warnings:<br/>[1] Standard Errors assume that the covariance matrix of the errors is correctly specified."
      ],
      "text/plain": [
       "<class 'statsmodels.iolib.summary.Summary'>\n",
       "\"\"\"\n",
       "                            OLS Regression Results                            \n",
       "==============================================================================\n",
       "Dep. Variable:         initialchanges   R-squared:                       0.941\n",
       "Model:                            OLS   Adj. R-squared:                  0.923\n",
       "Method:                 Least Squares   F-statistic:                     51.23\n",
       "Date:                Sun, 19 Jul 2020   Prob (F-statistic):           6.71e-23\n",
       "Time:                        18:06:18   Log-Likelihood:                -204.03\n",
       "No. Observations:                  60   AIC:                             438.1\n",
       "Df Residuals:                      45   BIC:                             469.5\n",
       "Df Model:                          14                                         \n",
       "Covariance Type:            nonrobust                                         \n",
       "=========================================================================================================\n",
       "                                            coef    std err          t      P>|t|      [0.025      0.975]\n",
       "---------------------------------------------------------------------------------------------------------\n",
       "Intercept                                -6.5167      4.188     -1.556      0.127     -14.952       1.919\n",
       "C(sediments)[T.30]                       22.9712      5.923      3.878      0.000      11.042      34.901\n",
       "C(sediments)[T.60]                       45.2837      5.923      7.646      0.000      33.354      57.213\n",
       "C(sediments)[T.90]                       61.4206      5.923     10.370      0.000      49.491      73.350\n",
       "C(sediments)[T.120]                      85.0785      5.923     14.364      0.000      73.149      97.008\n",
       "C(nutrients)[T.I]                         0.6386      5.923      0.108      0.915     -11.291      12.568\n",
       "C(nutrients)[T.L]                        -2.3190      5.923     -0.392      0.697     -14.248       9.610\n",
       "C(sediments)[T.30]:C(nutrients)[T.I]     -2.5952      8.376     -0.310      0.758     -19.466      14.275\n",
       "C(sediments)[T.60]:C(nutrients)[T.I]      1.3578      8.376      0.162      0.872     -15.513      18.228\n",
       "C(sediments)[T.90]:C(nutrients)[T.I]     -9.3409      8.376     -1.115      0.271     -26.212       7.530\n",
       "C(sediments)[T.120]:C(nutrients)[T.I]     1.6495      8.376      0.197      0.845     -15.221      18.520\n",
       "C(sediments)[T.30]:C(nutrients)[T.L]     -5.5823      8.376     -0.666      0.509     -22.453      11.288\n",
       "C(sediments)[T.60]:C(nutrients)[T.L]    -10.0534      8.376     -1.200      0.236     -26.924       6.817\n",
       "C(sediments)[T.90]:C(nutrients)[T.L]     -2.8139      8.376     -0.336      0.738     -19.685      14.057\n",
       "C(sediments)[T.120]:C(nutrients)[T.L]    -9.9801      8.376     -1.191      0.240     -26.851       6.891\n",
       "==============================================================================\n",
       "Omnibus:                        1.433   Durbin-Watson:                   2.096\n",
       "Prob(Omnibus):                  0.488   Jarque-Bera (JB):                1.207\n",
       "Skew:                          -0.156   Prob(JB):                        0.547\n",
       "Kurtosis:                       2.379   Cond. No.                         21.8\n",
       "==============================================================================\n",
       "\n",
       "Warnings:\n",
       "[1] Standard Errors assume that the covariance matrix of the errors is correctly specified.\n",
       "\"\"\""
      ]
     },
     "execution_count": 199,
     "metadata": {},
     "output_type": "execute_result"
    }
   ],
   "source": [
    "#Approach 2 - Check the interaction of groups\n",
    "formula = 'initialchanges ~ C(sediments) *C(nutrients)'\n",
    "model = ols(formula, df).fit()\n",
    "model.summary()"
   ]
  },
  {
   "cell_type": "code",
   "execution_count": 196,
   "metadata": {
    "hidden": true
   },
   "outputs": [
    {
     "name": "stdout",
     "output_type": "stream",
     "text": [
      "                               sum_sq    df         F  PR(>F)\n",
      "C(sediments)               49031.8075   4.0  174.7099  0.0000\n",
      "C(nutrients)                 749.4841   2.0    5.3411  0.0083\n",
      "C(sediments):C(nutrients)    535.5215   8.0    0.9541  0.4831\n",
      "Residual                    3157.2779  45.0       NaN     NaN\n"
     ]
    }
   ],
   "source": [
    "res2 = sm.stats.anova_lm(model, typ=2)\n",
    "print(res2.round(4))"
   ]
  },
  {
   "cell_type": "markdown",
   "metadata": {
    "heading_collapsed": true,
    "hidden": true
   },
   "source": [
    "#### Normality Assumption Check"
   ]
  },
  {
   "cell_type": "code",
   "execution_count": 197,
   "metadata": {
    "hidden": true
   },
   "outputs": [
    {
     "name": "stdout",
     "output_type": "stream",
     "text": [
      "0.9783595204353333 0.3631591796875\n"
     ]
    }
   ],
   "source": [
    "w, pvalue = stats.shapiro(model.resid)\n",
    "print(w, pvalue)\n",
    "#p-value is >0.05 for all groups, hence, we can conclude that they follow the Gaussian Distribution"
   ]
  },
  {
   "cell_type": "code",
   "execution_count": 198,
   "metadata": {
    "hidden": true
   },
   "outputs": [
    {
     "data": {
      "image/png": "[encoded data removed]",
      "text/plain": [
       "<Figure size 432x288 with 1 Axes>"
      ]
     },
     "metadata": {
      "needs_background": "light"
     },
     "output_type": "display_data"
    }
   ],
   "source": [
    "# QQ Plot Test\n",
    "#Check the Normal distribution of residuals\n",
    "res = model2.resid\n",
    "fig = sm.qqplot(res, line='s')\n",
    "plt.show()"
   ]
  },
  {
   "cell_type": "markdown",
   "metadata": {
    "heading_collapsed": true,
    "hidden": true
   },
   "source": [
    "#### Homogeneity Check"
   ]
  },
  {
   "cell_type": "code",
   "execution_count": null,
   "metadata": {
    "hidden": true
   },
   "outputs": [],
   "source": []
  },
  {
   "cell_type": "markdown",
   "metadata": {
    "heading_collapsed": true,
    "hidden": true
   },
   "source": [
    "#### Post-hoc Check"
   ]
  },
  {
   "cell_type": "code",
   "execution_count": 200,
   "metadata": {
    "hidden": true
   },
   "outputs": [
    {
     "name": "stdout",
     "output_type": "stream",
     "text": [
      "Multiple Comparison of Means - Tukey HSD, FWER=0.05 \n",
      "====================================================\n",
      "group1 group2 meandiff p-adj   lower   upper  reject\n",
      "----------------------------------------------------\n",
      "     0     30  20.2453  0.001  9.8974 30.5933   True\n",
      "     0     60  42.3852  0.001 32.0373 52.7331   True\n",
      "     0     90   57.369  0.001 47.0211 67.7169   True\n",
      "     0    120  82.3016  0.001 71.9537 92.6495   True\n",
      "    30     60  22.1399  0.001 11.7919 32.4878   True\n",
      "    30     90  37.1236  0.001 26.7757 47.4716   True\n",
      "    30    120  62.0563  0.001 51.7083 72.4042   True\n",
      "    60     90  14.9838 0.0013  4.6359 25.3317   True\n",
      "    60    120  39.9164  0.001 29.5685 50.2643   True\n",
      "    90    120  24.9326  0.001 14.5847 35.2805   True\n",
      "----------------------------------------------------\n"
     ]
    }
   ],
   "source": [
    "mc = statsmodels.stats.multicomp.MultiComparison(df['initialchanges'],df['sediments'])\n",
    "mc_results = mc.tukeyhsd()\n",
    "print(mc_results)"
   ]
  },
  {
   "cell_type": "code",
   "execution_count": 201,
   "metadata": {
    "hidden": true
   },
   "outputs": [
    {
     "name": "stdout",
     "output_type": "stream",
     "text": [
      " Multiple Comparison of Means - Tukey HSD, FWER=0.05 \n",
      "=====================================================\n",
      "group1 group2 meandiff p-adj   lower    upper  reject\n",
      "-----------------------------------------------------\n",
      "     H      I  -1.1472    0.9  -24.291 21.9967  False\n",
      "     H      L  -8.0049   0.67 -31.1487 15.1389  False\n",
      "     I      L  -6.8577 0.7377 -30.0015 16.2861  False\n",
      "-----------------------------------------------------\n"
     ]
    }
   ],
   "source": [
    "mc = statsmodels.stats.multicomp.MultiComparison(df['initialchanges'],df['nutrients'])\n",
    "mc_results = mc.tukeyhsd()\n",
    "print(mc_results)"
   ]
  },
  {
   "cell_type": "markdown",
   "metadata": {
    "heading_collapsed": true,
    "hidden": true
   },
   "source": [
    "### SET Rate"
   ]
  },
  {
   "cell_type": "markdown",
   "metadata": {
    "hidden": true
   },
   "source": [
    "#### Two-way ANOVA"
   ]
  },
  {
   "cell_type": "code",
   "execution_count": 12,
   "metadata": {
    "hidden": true
   },
   "outputs": [],
   "source": [
    "df = pd.read_excel (r'C:\\Users\\molli\\Dropbox\\Publish\\Working Graphs for Publication_revised.xlsx', sheet_name='SET Inset', index_col=0) \n",
    "df = pd.DataFrame(df, columns= ['plots','rate','sediments','nutrients'])"
   ]
  },
  {
   "cell_type": "code",
   "execution_count": 13,
   "metadata": {
    "hidden": true
   },
   "outputs": [
    {
     "data": {
      "image/png": "[encoded data removed]",
      "text/plain": [
       "<Figure size 432x288 with 1 Axes>"
      ]
     },
     "metadata": {
      "needs_background": "light"
     },
     "output_type": "display_data"
    }
   ],
   "source": [
    "ax = sns.pointplot(x='sediments', y='rate', hue='nutrients', data=df)"
   ]
  },
  {
   "cell_type": "code",
   "execution_count": 14,
   "metadata": {
    "hidden": true
   },
   "outputs": [],
   "source": [
    "#df.boxplot(column='initialchanges', by='sediments');\n",
    "#sns.violinplot(x=\"sediments\", y=\"initialchanges\", data=df);"
   ]
  },
  {
   "cell_type": "code",
   "execution_count": 15,
   "metadata": {
    "hidden": true,
    "scrolled": true
   },
   "outputs": [
    {
     "name": "stdout",
     "output_type": "stream",
     "text": [
      "\n",
      "\n"
     ]
    },
    {
     "data": {
      "text/html": [
       "<div>\n",
       "<style scoped>\n",
       "    .dataframe tbody tr th:only-of-type {\n",
       "        vertical-align: middle;\n",
       "    }\n",
       "\n",
       "    .dataframe tbody tr th {\n",
       "        vertical-align: top;\n",
       "    }\n",
       "\n",
       "    .dataframe thead th {\n",
       "        text-align: right;\n",
       "    }\n",
       "</style>\n",
       "<table border=\"1\" class=\"dataframe\">\n",
       "  <thead>\n",
       "    <tr style=\"text-align: right;\">\n",
       "      <th></th>\n",
       "      <th>N</th>\n",
       "      <th>Mean</th>\n",
       "      <th>SD</th>\n",
       "      <th>SE</th>\n",
       "      <th>95% Conf.</th>\n",
       "      <th>Interval</th>\n",
       "    </tr>\n",
       "    <tr>\n",
       "      <th>sediments</th>\n",
       "      <th></th>\n",
       "      <th></th>\n",
       "      <th></th>\n",
       "      <th></th>\n",
       "      <th></th>\n",
       "      <th></th>\n",
       "    </tr>\n",
       "  </thead>\n",
       "  <tbody>\n",
       "    <tr>\n",
       "      <th>0</th>\n",
       "      <td>12</td>\n",
       "      <td>-20.6346</td>\n",
       "      <td>6.1510</td>\n",
       "      <td>1.7756</td>\n",
       "      <td>-24.5427</td>\n",
       "      <td>-16.7264</td>\n",
       "    </tr>\n",
       "    <tr>\n",
       "      <th>30</th>\n",
       "      <td>12</td>\n",
       "      <td>-26.4041</td>\n",
       "      <td>10.0146</td>\n",
       "      <td>2.8910</td>\n",
       "      <td>-32.7670</td>\n",
       "      <td>-20.0411</td>\n",
       "    </tr>\n",
       "    <tr>\n",
       "      <th>60</th>\n",
       "      <td>12</td>\n",
       "      <td>-18.1898</td>\n",
       "      <td>4.6249</td>\n",
       "      <td>1.3351</td>\n",
       "      <td>-21.1283</td>\n",
       "      <td>-15.2512</td>\n",
       "    </tr>\n",
       "    <tr>\n",
       "      <th>90</th>\n",
       "      <td>12</td>\n",
       "      <td>-16.5088</td>\n",
       "      <td>5.4287</td>\n",
       "      <td>1.5671</td>\n",
       "      <td>-19.9581</td>\n",
       "      <td>-13.0596</td>\n",
       "    </tr>\n",
       "    <tr>\n",
       "      <th>120</th>\n",
       "      <td>12</td>\n",
       "      <td>-9.9117</td>\n",
       "      <td>4.6726</td>\n",
       "      <td>1.3488</td>\n",
       "      <td>-12.8805</td>\n",
       "      <td>-6.9429</td>\n",
       "    </tr>\n",
       "  </tbody>\n",
       "</table>\n",
       "</div>"
      ],
      "text/plain": [
       "            N     Mean       SD      SE  95% Conf.  Interval\n",
       "sediments                                                   \n",
       "0          12 -20.6346   6.1510  1.7756   -24.5427  -16.7264\n",
       "30         12 -26.4041  10.0146  2.8910   -32.7670  -20.0411\n",
       "60         12 -18.1898   4.6249  1.3351   -21.1283  -15.2512\n",
       "90         12 -16.5088   5.4287  1.5671   -19.9581  -13.0596\n",
       "120        12  -9.9117   4.6726  1.3488   -12.8805   -6.9429"
      ]
     },
     "execution_count": 15,
     "metadata": {},
     "output_type": "execute_result"
    }
   ],
   "source": [
    "rp.summary_cont(df['rate'].groupby(df['sediments']))"
   ]
  },
  {
   "cell_type": "code",
   "execution_count": 16,
   "metadata": {
    "hidden": true
   },
   "outputs": [
    {
     "data": {
      "text/html": [
       "<table class=\"simpletable\">\n",
       "<caption>OLS Regression Results</caption>\n",
       "<tr>\n",
       "  <th>Dep. Variable:</th>          <td>rate</td>       <th>  R-squared:         </th> <td>   0.466</td>\n",
       "</tr>\n",
       "<tr>\n",
       "  <th>Model:</th>                   <td>OLS</td>       <th>  Adj. R-squared:    </th> <td>   0.299</td>\n",
       "</tr>\n",
       "<tr>\n",
       "  <th>Method:</th>             <td>Least Squares</td>  <th>  F-statistic:       </th> <td>   2.800</td>\n",
       "</tr>\n",
       "<tr>\n",
       "  <th>Date:</th>             <td>Sun, 19 Jul 2020</td> <th>  Prob (F-statistic):</th>  <td>0.00448</td>\n",
       "</tr>\n",
       "<tr>\n",
       "  <th>Time:</th>                 <td>21:19:47</td>     <th>  Log-Likelihood:    </th> <td> -192.74</td>\n",
       "</tr>\n",
       "<tr>\n",
       "  <th>No. Observations:</th>      <td>    60</td>      <th>  AIC:               </th> <td>   415.5</td>\n",
       "</tr>\n",
       "<tr>\n",
       "  <th>Df Residuals:</th>          <td>    45</td>      <th>  BIC:               </th> <td>   446.9</td>\n",
       "</tr>\n",
       "<tr>\n",
       "  <th>Df Model:</th>              <td>    14</td>      <th>                     </th>     <td> </td>   \n",
       "</tr>\n",
       "<tr>\n",
       "  <th>Covariance Type:</th>      <td>nonrobust</td>    <th>                     </th>     <td> </td>   \n",
       "</tr>\n",
       "</table>\n",
       "<table class=\"simpletable\">\n",
       "<tr>\n",
       "                    <td></td>                       <th>coef</th>     <th>std err</th>      <th>t</th>      <th>P>|t|</th>  <th>[0.025</th>    <th>0.975]</th>  \n",
       "</tr>\n",
       "<tr>\n",
       "  <th>Intercept</th>                             <td>  -21.6646</td> <td>    3.470</td> <td>   -6.243</td> <td> 0.000</td> <td>  -28.654</td> <td>  -14.676</td>\n",
       "</tr>\n",
       "<tr>\n",
       "  <th>C(sediments)[T.30]</th>                    <td>   -6.0603</td> <td>    4.907</td> <td>   -1.235</td> <td> 0.223</td> <td>  -15.944</td> <td>    3.824</td>\n",
       "</tr>\n",
       "<tr>\n",
       "  <th>C(sediments)[T.60]</th>                    <td>    5.4496</td> <td>    4.907</td> <td>    1.111</td> <td> 0.273</td> <td>   -4.434</td> <td>   15.333</td>\n",
       "</tr>\n",
       "<tr>\n",
       "  <th>C(sediments)[T.90]</th>                    <td>    3.9375</td> <td>    4.907</td> <td>    0.802</td> <td> 0.427</td> <td>   -5.946</td> <td>   13.821</td>\n",
       "</tr>\n",
       "<tr>\n",
       "  <th>C(sediments)[T.120]</th>                   <td>    9.1596</td> <td>    4.907</td> <td>    1.867</td> <td> 0.068</td> <td>   -0.724</td> <td>   19.043</td>\n",
       "</tr>\n",
       "<tr>\n",
       "  <th>C(nutrients)[T.I]</th>                     <td>    1.3389</td> <td>    4.907</td> <td>    0.273</td> <td> 0.786</td> <td>   -8.545</td> <td>   11.223</td>\n",
       "</tr>\n",
       "<tr>\n",
       "  <th>C(nutrients)[T.L]</th>                     <td>    1.7514</td> <td>    4.907</td> <td>    0.357</td> <td> 0.723</td> <td>   -8.132</td> <td>   11.635</td>\n",
       "</tr>\n",
       "<tr>\n",
       "  <th>C(sediments)[T.30]:C(nutrients)[T.I]</th>  <td>    0.0703</td> <td>    6.940</td> <td>    0.010</td> <td> 0.992</td> <td>  -13.908</td> <td>   14.048</td>\n",
       "</tr>\n",
       "<tr>\n",
       "  <th>C(sediments)[T.60]:C(nutrients)[T.I]</th>  <td>   -3.0628</td> <td>    6.940</td> <td>   -0.441</td> <td> 0.661</td> <td>  -17.041</td> <td>   10.915</td>\n",
       "</tr>\n",
       "<tr>\n",
       "  <th>C(sediments)[T.90]:C(nutrients)[T.I]</th>  <td>    0.2952</td> <td>    6.940</td> <td>    0.043</td> <td> 0.966</td> <td>  -13.683</td> <td>   14.273</td>\n",
       "</tr>\n",
       "<tr>\n",
       "  <th>C(sediments)[T.120]:C(nutrients)[T.I]</th> <td>    0.1366</td> <td>    6.940</td> <td>    0.020</td> <td> 0.984</td> <td>  -13.841</td> <td>   14.114</td>\n",
       "</tr>\n",
       "<tr>\n",
       "  <th>C(sediments)[T.30]:C(nutrients)[T.L]</th>  <td>    0.8022</td> <td>    6.940</td> <td>    0.116</td> <td> 0.908</td> <td>  -13.176</td> <td>   14.780</td>\n",
       "</tr>\n",
       "<tr>\n",
       "  <th>C(sediments)[T.60]:C(nutrients)[T.L]</th>  <td>   -5.9518</td> <td>    6.940</td> <td>   -0.858</td> <td> 0.396</td> <td>  -19.930</td> <td>    8.026</td>\n",
       "</tr>\n",
       "<tr>\n",
       "  <th>C(sediments)[T.90]:C(nutrients)[T.L]</th>  <td>    0.2694</td> <td>    6.940</td> <td>    0.039</td> <td> 0.969</td> <td>  -13.708</td> <td>   14.247</td>\n",
       "</tr>\n",
       "<tr>\n",
       "  <th>C(sediments)[T.120]:C(nutrients)[T.L]</th> <td>    4.5531</td> <td>    6.940</td> <td>    0.656</td> <td> 0.515</td> <td>   -9.425</td> <td>   18.531</td>\n",
       "</tr>\n",
       "</table>\n",
       "<table class=\"simpletable\">\n",
       "<tr>\n",
       "  <th>Omnibus:</th>       <td> 2.030</td> <th>  Durbin-Watson:     </th> <td>   2.008</td>\n",
       "</tr>\n",
       "<tr>\n",
       "  <th>Prob(Omnibus):</th> <td> 0.362</td> <th>  Jarque-Bera (JB):  </th> <td>   1.260</td>\n",
       "</tr>\n",
       "<tr>\n",
       "  <th>Skew:</th>          <td> 0.296</td> <th>  Prob(JB):          </th> <td>   0.533</td>\n",
       "</tr>\n",
       "<tr>\n",
       "  <th>Kurtosis:</th>      <td> 3.392</td> <th>  Cond. No.          </th> <td>    21.8</td>\n",
       "</tr>\n",
       "</table><br/><br/>Warnings:<br/>[1] Standard Errors assume that the covariance matrix of the errors is correctly specified."
      ],
      "text/plain": [
       "<class 'statsmodels.iolib.summary.Summary'>\n",
       "\"\"\"\n",
       "                            OLS Regression Results                            \n",
       "==============================================================================\n",
       "Dep. Variable:                   rate   R-squared:                       0.466\n",
       "Model:                            OLS   Adj. R-squared:                  0.299\n",
       "Method:                 Least Squares   F-statistic:                     2.800\n",
       "Date:                Sun, 19 Jul 2020   Prob (F-statistic):            0.00448\n",
       "Time:                        21:19:47   Log-Likelihood:                -192.74\n",
       "No. Observations:                  60   AIC:                             415.5\n",
       "Df Residuals:                      45   BIC:                             446.9\n",
       "Df Model:                          14                                         \n",
       "Covariance Type:            nonrobust                                         \n",
       "=========================================================================================================\n",
       "                                            coef    std err          t      P>|t|      [0.025      0.975]\n",
       "---------------------------------------------------------------------------------------------------------\n",
       "Intercept                               -21.6646      3.470     -6.243      0.000     -28.654     -14.676\n",
       "C(sediments)[T.30]                       -6.0603      4.907     -1.235      0.223     -15.944       3.824\n",
       "C(sediments)[T.60]                        5.4496      4.907      1.111      0.273      -4.434      15.333\n",
       "C(sediments)[T.90]                        3.9375      4.907      0.802      0.427      -5.946      13.821\n",
       "C(sediments)[T.120]                       9.1596      4.907      1.867      0.068      -0.724      19.043\n",
       "C(nutrients)[T.I]                         1.3389      4.907      0.273      0.786      -8.545      11.223\n",
       "C(nutrients)[T.L]                         1.7514      4.907      0.357      0.723      -8.132      11.635\n",
       "C(sediments)[T.30]:C(nutrients)[T.I]      0.0703      6.940      0.010      0.992     -13.908      14.048\n",
       "C(sediments)[T.60]:C(nutrients)[T.I]     -3.0628      6.940     -0.441      0.661     -17.041      10.915\n",
       "C(sediments)[T.90]:C(nutrients)[T.I]      0.2952      6.940      0.043      0.966     -13.683      14.273\n",
       "C(sediments)[T.120]:C(nutrients)[T.I]     0.1366      6.940      0.020      0.984     -13.841      14.114\n",
       "C(sediments)[T.30]:C(nutrients)[T.L]      0.8022      6.940      0.116      0.908     -13.176      14.780\n",
       "C(sediments)[T.60]:C(nutrients)[T.L]     -5.9518      6.940     -0.858      0.396     -19.930       8.026\n",
       "C(sediments)[T.90]:C(nutrients)[T.L]      0.2694      6.940      0.039      0.969     -13.708      14.247\n",
       "C(sediments)[T.120]:C(nutrients)[T.L]     4.5531      6.940      0.656      0.515      -9.425      18.531\n",
       "==============================================================================\n",
       "Omnibus:                        2.030   Durbin-Watson:                   2.008\n",
       "Prob(Omnibus):                  0.362   Jarque-Bera (JB):                1.260\n",
       "Skew:                           0.296   Prob(JB):                        0.533\n",
       "Kurtosis:                       3.392   Cond. No.                         21.8\n",
       "==============================================================================\n",
       "\n",
       "Warnings:\n",
       "[1] Standard Errors assume that the covariance matrix of the errors is correctly specified.\n",
       "\"\"\""
      ]
     },
     "execution_count": 16,
     "metadata": {},
     "output_type": "execute_result"
    }
   ],
   "source": [
    "#Approach 2 - Check the interaction of groups\n",
    "formula = 'rate ~ C(sediments) *C(nutrients)'\n",
    "model = ols(formula, df).fit()\n",
    "model.summary()"
   ]
  },
  {
   "cell_type": "code",
   "execution_count": 17,
   "metadata": {
    "hidden": true
   },
   "outputs": [
    {
     "name": "stdout",
     "output_type": "stream",
     "text": [
      "                              sum_sq    df       F  PR(>F)\n",
      "C(sediments)               1736.4688   4.0  9.0134  0.0000\n",
      "C(nutrients)                 28.4294   2.0  0.2951  0.7459\n",
      "C(sediments):C(nutrients)   123.2264   8.0  0.3198  0.9543\n",
      "Residual                   2167.3542  45.0     NaN     NaN\n"
     ]
    }
   ],
   "source": [
    "res2 = sm.stats.anova_lm(model, typ=2)\n",
    "print(res2.round(4))"
   ]
  },
  {
   "cell_type": "markdown",
   "metadata": {
    "hidden": true
   },
   "source": [
    "#### Normality Assumption Check"
   ]
  },
  {
   "cell_type": "code",
   "execution_count": 18,
   "metadata": {
    "hidden": true
   },
   "outputs": [
    {
     "name": "stdout",
     "output_type": "stream",
     "text": [
      "0.9804325103759766 0.4471059739589691\n"
     ]
    }
   ],
   "source": [
    "w, pvalue = stats.shapiro(model.resid)\n",
    "print(w, pvalue)\n",
    "#p-value is >0.05 for all groups, hence, we can conclude that they follow the Gaussian Distribution"
   ]
  },
  {
   "cell_type": "code",
   "execution_count": 20,
   "metadata": {
    "hidden": true
   },
   "outputs": [
    {
     "data": {
      "image/png": "[encoded data removed]",
      "text/plain": [
       "<Figure size 432x288 with 1 Axes>"
      ]
     },
     "metadata": {
      "needs_background": "light"
     },
     "output_type": "display_data"
    }
   ],
   "source": [
    "# QQ Plot Test\n",
    "#Check the Normal distribution of residuals\n",
    "res = model.resid\n",
    "fig = sm.qqplot(res, line='s')\n",
    "plt.show()"
   ]
  },
  {
   "cell_type": "markdown",
   "metadata": {
    "hidden": true
   },
   "source": [
    "#### Homogeneity Check"
   ]
  },
  {
   "cell_type": "code",
   "execution_count": null,
   "metadata": {
    "hidden": true
   },
   "outputs": [],
   "source": []
  },
  {
   "cell_type": "markdown",
   "metadata": {
    "hidden": true
   },
   "source": [
    "#### Post-hoc Check"
   ]
  },
  {
   "cell_type": "code",
   "execution_count": 21,
   "metadata": {
    "hidden": true
   },
   "outputs": [
    {
     "name": "stdout",
     "output_type": "stream",
     "text": [
      "Multiple Comparison of Means - Tukey HSD, FWER=0.05 \n",
      "====================================================\n",
      "group1 group2 meandiff p-adj   lower   upper  reject\n",
      "----------------------------------------------------\n",
      "     0     30  -5.7695  0.204 -13.246   1.707  False\n",
      "     0     60   2.4448 0.8803 -5.0317  9.9213  False\n",
      "     0     90   4.1257 0.5273 -3.3508 11.6023  False\n",
      "     0    120  10.7229 0.0015  3.2463 18.1994   True\n",
      "    30     60   8.2143 0.0245  0.7378 15.6908   True\n",
      "    30     90   9.8952  0.004  2.4187 17.3718   True\n",
      "    30    120  16.4924  0.001  9.0158 23.9689   True\n",
      "    60     90   1.6809    0.9 -5.7956  9.1575  False\n",
      "    60    120   8.2781  0.023  0.8015 15.7546   True\n",
      "    90    120   6.5971 0.1082 -0.8794 14.0737  False\n",
      "----------------------------------------------------\n"
     ]
    }
   ],
   "source": [
    "mc = statsmodels.stats.multicomp.MultiComparison(df['rate'],df['sediments'])\n",
    "mc_results = mc.tukeyhsd()\n",
    "print(mc_results)"
   ]
  },
  {
   "cell_type": "code",
   "execution_count": 22,
   "metadata": {
    "hidden": true,
    "scrolled": true
   },
   "outputs": [
    {
     "name": "stdout",
     "output_type": "stream",
     "text": [
      "Multiple Comparison of Means - Tukey HSD, FWER=0.05\n",
      "===================================================\n",
      "group1 group2 meandiff p-adj   lower  upper  reject\n",
      "---------------------------------------------------\n",
      "     H      I   0.8267    0.9 -5.5695 7.2229  False\n",
      "     H      L    1.686 0.7824 -4.7102 8.0822  False\n",
      "     I      L   0.8593    0.9 -5.5369 7.2555  False\n",
      "---------------------------------------------------\n"
     ]
    }
   ],
   "source": [
    "mc = statsmodels.stats.multicomp.MultiComparison(df['rate'],df['nutrients'])\n",
    "mc_results = mc.tukeyhsd()\n",
    "print(mc_results)"
   ]
  },
  {
   "cell_type": "markdown",
   "metadata": {
    "heading_collapsed": true,
    "hidden": true
   },
   "source": [
    "### SET Net"
   ]
  },
  {
   "cell_type": "markdown",
   "metadata": {
    "heading_collapsed": true,
    "hidden": true
   },
   "source": [
    "#### Two-way ANOVA"
   ]
  },
  {
   "cell_type": "code",
   "execution_count": 30,
   "metadata": {
    "hidden": true
   },
   "outputs": [],
   "source": [
    "df = pd.read_excel (r'C:\\Users\\molli\\Dropbox\\Publish\\Working Graphs for Publication_revised.xlsx', sheet_name='SET Inset', index_col=0) \n",
    "df = pd.DataFrame(df, columns= ['plots','net','sediments','nutrients'])"
   ]
  },
  {
   "cell_type": "code",
   "execution_count": 31,
   "metadata": {
    "hidden": true
   },
   "outputs": [
    {
     "data": {
      "image/png": "[encoded data removed]",
      "text/plain": [
       "<Figure size 432x288 with 1 Axes>"
      ]
     },
     "metadata": {
      "needs_background": "light"
     },
     "output_type": "display_data"
    }
   ],
   "source": [
    "ax = sns.pointplot(x='sediments', y='net', hue='nutrients', data=df)"
   ]
  },
  {
   "cell_type": "code",
   "execution_count": 32,
   "metadata": {
    "hidden": true
   },
   "outputs": [],
   "source": [
    "#df.boxplot(column='initialchanges', by='sediments');\n",
    "#sns.violinplot(x=\"sediments\", y=\"initialchanges\", data=df);"
   ]
  },
  {
   "cell_type": "code",
   "execution_count": 33,
   "metadata": {
    "hidden": true,
    "scrolled": false
   },
   "outputs": [
    {
     "name": "stdout",
     "output_type": "stream",
     "text": [
      "\n",
      "\n"
     ]
    },
    {
     "data": {
      "text/html": [
       "<div>\n",
       "<style scoped>\n",
       "    .dataframe tbody tr th:only-of-type {\n",
       "        vertical-align: middle;\n",
       "    }\n",
       "\n",
       "    .dataframe tbody tr th {\n",
       "        vertical-align: top;\n",
       "    }\n",
       "\n",
       "    .dataframe thead th {\n",
       "        text-align: right;\n",
       "    }\n",
       "</style>\n",
       "<table border=\"1\" class=\"dataframe\">\n",
       "  <thead>\n",
       "    <tr style=\"text-align: right;\">\n",
       "      <th></th>\n",
       "      <th>N</th>\n",
       "      <th>Mean</th>\n",
       "      <th>SD</th>\n",
       "      <th>SE</th>\n",
       "      <th>95% Conf.</th>\n",
       "      <th>Interval</th>\n",
       "    </tr>\n",
       "    <tr>\n",
       "      <th>sediments</th>\n",
       "      <th></th>\n",
       "      <th></th>\n",
       "      <th></th>\n",
       "      <th></th>\n",
       "      <th></th>\n",
       "      <th></th>\n",
       "    </tr>\n",
       "  </thead>\n",
       "  <tbody>\n",
       "    <tr>\n",
       "      <th>0</th>\n",
       "      <td>12</td>\n",
       "      <td>-19.6406</td>\n",
       "      <td>6.0324</td>\n",
       "      <td>1.7414</td>\n",
       "      <td>-23.4734</td>\n",
       "      <td>-15.8078</td>\n",
       "    </tr>\n",
       "    <tr>\n",
       "      <th>30</th>\n",
       "      <td>12</td>\n",
       "      <td>-27.5542</td>\n",
       "      <td>10.4907</td>\n",
       "      <td>3.0284</td>\n",
       "      <td>-34.2197</td>\n",
       "      <td>-20.8888</td>\n",
       "    </tr>\n",
       "    <tr>\n",
       "      <th>60</th>\n",
       "      <td>12</td>\n",
       "      <td>-18.3500</td>\n",
       "      <td>3.5928</td>\n",
       "      <td>1.0371</td>\n",
       "      <td>-20.6328</td>\n",
       "      <td>-16.0673</td>\n",
       "    </tr>\n",
       "    <tr>\n",
       "      <th>90</th>\n",
       "      <td>12</td>\n",
       "      <td>-18.7898</td>\n",
       "      <td>5.8493</td>\n",
       "      <td>1.6885</td>\n",
       "      <td>-22.5062</td>\n",
       "      <td>-15.0733</td>\n",
       "    </tr>\n",
       "    <tr>\n",
       "      <th>120</th>\n",
       "      <td>12</td>\n",
       "      <td>-16.0936</td>\n",
       "      <td>3.8045</td>\n",
       "      <td>1.0983</td>\n",
       "      <td>-18.5108</td>\n",
       "      <td>-13.6763</td>\n",
       "    </tr>\n",
       "  </tbody>\n",
       "</table>\n",
       "</div>"
      ],
      "text/plain": [
       "            N     Mean       SD      SE  95% Conf.  Interval\n",
       "sediments                                                   \n",
       "0          12 -19.6406   6.0324  1.7414   -23.4734  -15.8078\n",
       "30         12 -27.5542  10.4907  3.0284   -34.2197  -20.8888\n",
       "60         12 -18.3500   3.5928  1.0371   -20.6328  -16.0673\n",
       "90         12 -18.7898   5.8493  1.6885   -22.5062  -15.0733\n",
       "120        12 -16.0936   3.8045  1.0983   -18.5108  -13.6763"
      ]
     },
     "execution_count": 33,
     "metadata": {},
     "output_type": "execute_result"
    }
   ],
   "source": [
    "rp.summary_cont(df['net'].groupby(df['sediments']))"
   ]
  },
  {
   "cell_type": "code",
   "execution_count": 34,
   "metadata": {
    "hidden": true
   },
   "outputs": [
    {
     "data": {
      "text/html": [
       "<table class=\"simpletable\">\n",
       "<caption>OLS Regression Results</caption>\n",
       "<tr>\n",
       "  <th>Dep. Variable:</th>           <td>net</td>       <th>  R-squared:         </th> <td>   0.335</td>\n",
       "</tr>\n",
       "<tr>\n",
       "  <th>Model:</th>                   <td>OLS</td>       <th>  Adj. R-squared:    </th> <td>   0.129</td>\n",
       "</tr>\n",
       "<tr>\n",
       "  <th>Method:</th>             <td>Least Squares</td>  <th>  F-statistic:       </th> <td>   1.622</td>\n",
       "</tr>\n",
       "<tr>\n",
       "  <th>Date:</th>             <td>Sun, 19 Jul 2020</td> <th>  Prob (F-statistic):</th>  <td> 0.110</td> \n",
       "</tr>\n",
       "<tr>\n",
       "  <th>Time:</th>                 <td>21:34:02</td>     <th>  Log-Likelihood:    </th> <td> -192.25</td>\n",
       "</tr>\n",
       "<tr>\n",
       "  <th>No. Observations:</th>      <td>    60</td>      <th>  AIC:               </th> <td>   414.5</td>\n",
       "</tr>\n",
       "<tr>\n",
       "  <th>Df Residuals:</th>          <td>    45</td>      <th>  BIC:               </th> <td>   445.9</td>\n",
       "</tr>\n",
       "<tr>\n",
       "  <th>Df Model:</th>              <td>    14</td>      <th>                     </th>     <td> </td>   \n",
       "</tr>\n",
       "<tr>\n",
       "  <th>Covariance Type:</th>      <td>nonrobust</td>    <th>                     </th>     <td> </td>   \n",
       "</tr>\n",
       "</table>\n",
       "<table class=\"simpletable\">\n",
       "<tr>\n",
       "                    <td></td>                       <th>coef</th>     <th>std err</th>      <th>t</th>      <th>P>|t|</th>  <th>[0.025</th>    <th>0.975]</th>  \n",
       "</tr>\n",
       "<tr>\n",
       "  <th>Intercept</th>                             <td>  -20.2024</td> <td>    3.442</td> <td>   -5.870</td> <td> 0.000</td> <td>  -27.134</td> <td>  -13.271</td>\n",
       "</tr>\n",
       "<tr>\n",
       "  <th>C(sediments)[T.30]</th>                    <td>   -9.7833</td> <td>    4.867</td> <td>   -2.010</td> <td> 0.050</td> <td>  -19.586</td> <td>    0.020</td>\n",
       "</tr>\n",
       "<tr>\n",
       "  <th>C(sediments)[T.60]</th>                    <td>    2.8469</td> <td>    4.867</td> <td>    0.585</td> <td> 0.562</td> <td>   -6.956</td> <td>   12.650</td>\n",
       "</tr>\n",
       "<tr>\n",
       "  <th>C(sediments)[T.90]</th>                    <td>   -1.5972</td> <td>    4.867</td> <td>   -0.328</td> <td> 0.744</td> <td>  -11.400</td> <td>    8.206</td>\n",
       "</tr>\n",
       "<tr>\n",
       "  <th>C(sediments)[T.120]</th>                   <td>    2.6568</td> <td>    4.867</td> <td>    0.546</td> <td> 0.588</td> <td>   -7.146</td> <td>   12.460</td>\n",
       "</tr>\n",
       "<tr>\n",
       "  <th>C(nutrients)[T.I]</th>                     <td>    0.7210</td> <td>    4.867</td> <td>    0.148</td> <td> 0.883</td> <td>   -9.082</td> <td>   10.524</td>\n",
       "</tr>\n",
       "<tr>\n",
       "  <th>C(nutrients)[T.L]</th>                     <td>    0.9644</td> <td>    4.867</td> <td>    0.198</td> <td> 0.844</td> <td>   -8.839</td> <td>   10.767</td>\n",
       "</tr>\n",
       "<tr>\n",
       "  <th>C(sediments)[T.30]:C(nutrients)[T.I]</th>  <td>    1.7467</td> <td>    6.883</td> <td>    0.254</td> <td> 0.801</td> <td>  -12.117</td> <td>   15.610</td>\n",
       "</tr>\n",
       "<tr>\n",
       "  <th>C(sediments)[T.60]:C(nutrients)[T.I]</th>  <td>   -2.0997</td> <td>    6.883</td> <td>   -0.305</td> <td> 0.762</td> <td>  -15.963</td> <td>   11.764</td>\n",
       "</tr>\n",
       "<tr>\n",
       "  <th>C(sediments)[T.90]:C(nutrients)[T.I]</th>  <td>    2.4034</td> <td>    6.883</td> <td>    0.349</td> <td> 0.729</td> <td>  -11.460</td> <td>   16.267</td>\n",
       "</tr>\n",
       "<tr>\n",
       "  <th>C(sediments)[T.120]:C(nutrients)[T.I]</th> <td>   -0.0957</td> <td>    6.883</td> <td>   -0.014</td> <td> 0.989</td> <td>  -13.959</td> <td>   13.768</td>\n",
       "</tr>\n",
       "<tr>\n",
       "  <th>C(sediments)[T.30]:C(nutrients)[T.L]</th>  <td>    3.8622</td> <td>    6.883</td> <td>    0.561</td> <td> 0.578</td> <td>  -10.001</td> <td>   17.726</td>\n",
       "</tr>\n",
       "<tr>\n",
       "  <th>C(sediments)[T.60]:C(nutrients)[T.L]</th>  <td>   -2.5694</td> <td>    6.883</td> <td>   -0.373</td> <td> 0.711</td> <td>  -16.433</td> <td>   11.294</td>\n",
       "</tr>\n",
       "<tr>\n",
       "  <th>C(sediments)[T.90]:C(nutrients)[T.L]</th>  <td>    4.9406</td> <td>    6.883</td> <td>    0.718</td> <td> 0.477</td> <td>   -8.923</td> <td>   18.804</td>\n",
       "</tr>\n",
       "<tr>\n",
       "  <th>C(sediments)[T.120]:C(nutrients)[T.L]</th> <td>    2.7664</td> <td>    6.883</td> <td>    0.402</td> <td> 0.690</td> <td>  -11.097</td> <td>   16.630</td>\n",
       "</tr>\n",
       "</table>\n",
       "<table class=\"simpletable\">\n",
       "<tr>\n",
       "  <th>Omnibus:</th>       <td> 3.211</td> <th>  Durbin-Watson:     </th> <td>   2.203</td>\n",
       "</tr>\n",
       "<tr>\n",
       "  <th>Prob(Omnibus):</th> <td> 0.201</td> <th>  Jarque-Bera (JB):  </th> <td>   2.923</td>\n",
       "</tr>\n",
       "<tr>\n",
       "  <th>Skew:</th>          <td>-0.090</td> <th>  Prob(JB):          </th> <td>   0.232</td>\n",
       "</tr>\n",
       "<tr>\n",
       "  <th>Kurtosis:</th>      <td> 4.066</td> <th>  Cond. No.          </th> <td>    21.8</td>\n",
       "</tr>\n",
       "</table><br/><br/>Warnings:<br/>[1] Standard Errors assume that the covariance matrix of the errors is correctly specified."
      ],
      "text/plain": [
       "<class 'statsmodels.iolib.summary.Summary'>\n",
       "\"\"\"\n",
       "                            OLS Regression Results                            \n",
       "==============================================================================\n",
       "Dep. Variable:                    net   R-squared:                       0.335\n",
       "Model:                            OLS   Adj. R-squared:                  0.129\n",
       "Method:                 Least Squares   F-statistic:                     1.622\n",
       "Date:                Sun, 19 Jul 2020   Prob (F-statistic):              0.110\n",
       "Time:                        21:34:02   Log-Likelihood:                -192.25\n",
       "No. Observations:                  60   AIC:                             414.5\n",
       "Df Residuals:                      45   BIC:                             445.9\n",
       "Df Model:                          14                                         \n",
       "Covariance Type:            nonrobust                                         \n",
       "=========================================================================================================\n",
       "                                            coef    std err          t      P>|t|      [0.025      0.975]\n",
       "---------------------------------------------------------------------------------------------------------\n",
       "Intercept                               -20.2024      3.442     -5.870      0.000     -27.134     -13.271\n",
       "C(sediments)[T.30]                       -9.7833      4.867     -2.010      0.050     -19.586       0.020\n",
       "C(sediments)[T.60]                        2.8469      4.867      0.585      0.562      -6.956      12.650\n",
       "C(sediments)[T.90]                       -1.5972      4.867     -0.328      0.744     -11.400       8.206\n",
       "C(sediments)[T.120]                       2.6568      4.867      0.546      0.588      -7.146      12.460\n",
       "C(nutrients)[T.I]                         0.7210      4.867      0.148      0.883      -9.082      10.524\n",
       "C(nutrients)[T.L]                         0.9644      4.867      0.198      0.844      -8.839      10.767\n",
       "C(sediments)[T.30]:C(nutrients)[T.I]      1.7467      6.883      0.254      0.801     -12.117      15.610\n",
       "C(sediments)[T.60]:C(nutrients)[T.I]     -2.0997      6.883     -0.305      0.762     -15.963      11.764\n",
       "C(sediments)[T.90]:C(nutrients)[T.I]      2.4034      6.883      0.349      0.729     -11.460      16.267\n",
       "C(sediments)[T.120]:C(nutrients)[T.I]    -0.0957      6.883     -0.014      0.989     -13.959      13.768\n",
       "C(sediments)[T.30]:C(nutrients)[T.L]      3.8622      6.883      0.561      0.578     -10.001      17.726\n",
       "C(sediments)[T.60]:C(nutrients)[T.L]     -2.5694      6.883     -0.373      0.711     -16.433      11.294\n",
       "C(sediments)[T.90]:C(nutrients)[T.L]      4.9406      6.883      0.718      0.477      -8.923      18.804\n",
       "C(sediments)[T.120]:C(nutrients)[T.L]     2.7664      6.883      0.402      0.690     -11.097      16.630\n",
       "==============================================================================\n",
       "Omnibus:                        3.211   Durbin-Watson:                   2.203\n",
       "Prob(Omnibus):                  0.201   Jarque-Bera (JB):                2.923\n",
       "Skew:                          -0.090   Prob(JB):                        0.232\n",
       "Kurtosis:                       4.066   Cond. No.                         21.8\n",
       "==============================================================================\n",
       "\n",
       "Warnings:\n",
       "[1] Standard Errors assume that the covariance matrix of the errors is correctly specified.\n",
       "\"\"\""
      ]
     },
     "execution_count": 34,
     "metadata": {},
     "output_type": "execute_result"
    }
   ],
   "source": [
    "#Approach 2 - Check the interaction of groups\n",
    "formula = 'net ~ C(sediments) *C(nutrients)'\n",
    "model = ols(formula, df).fit()\n",
    "model.summary()"
   ]
  },
  {
   "cell_type": "code",
   "execution_count": 35,
   "metadata": {
    "hidden": true
   },
   "outputs": [
    {
     "name": "stdout",
     "output_type": "stream",
     "text": [
      "                              sum_sq    df       F  PR(>F)\n",
      "C(sediments)                919.2741   4.0  4.8507  0.0024\n",
      "C(nutrients)                 77.3911   2.0  0.8167  0.4483\n",
      "C(sediments):C(nutrients)    79.0149   8.0  0.2085  0.9879\n",
      "Residual                   2132.0467  45.0     NaN     NaN\n"
     ]
    }
   ],
   "source": [
    "res2 = sm.stats.anova_lm(model, typ=2)\n",
    "print(res2.round(4))"
   ]
  },
  {
   "cell_type": "markdown",
   "metadata": {
    "hidden": true
   },
   "source": [
    "#### Normality Assumption Check"
   ]
  },
  {
   "cell_type": "code",
   "execution_count": 36,
   "metadata": {
    "hidden": true
   },
   "outputs": [
    {
     "name": "stdout",
     "output_type": "stream",
     "text": [
      "0.9703836441040039 0.15236896276474\n"
     ]
    }
   ],
   "source": [
    "w, pvalue = stats.shapiro(model.resid)\n",
    "print(w, pvalue)\n",
    "#p-value is >0.05 for all groups, hence, we can conclude that they follow the Gaussian Distribution"
   ]
  },
  {
   "cell_type": "code",
   "execution_count": 37,
   "metadata": {
    "hidden": true
   },
   "outputs": [
    {
     "data": {
      "image/png": "[encoded data removed]",
      "text/plain": [
       "<Figure size 432x288 with 1 Axes>"
      ]
     },
     "metadata": {
      "needs_background": "light"
     },
     "output_type": "display_data"
    }
   ],
   "source": [
    "# QQ Plot Test\n",
    "#Check the Normal distribution of residuals\n",
    "res = model.resid\n",
    "fig = sm.qqplot(res, line='s')\n",
    "plt.show()"
   ]
  },
  {
   "cell_type": "markdown",
   "metadata": {
    "hidden": true
   },
   "source": [
    "#### Homogeneity Check"
   ]
  },
  {
   "cell_type": "code",
   "execution_count": null,
   "metadata": {
    "hidden": true
   },
   "outputs": [],
   "source": []
  },
  {
   "cell_type": "markdown",
   "metadata": {
    "hidden": true
   },
   "source": [
    "#### Post-hoc Check"
   ]
  },
  {
   "cell_type": "code",
   "execution_count": 39,
   "metadata": {
    "hidden": true
   },
   "outputs": [
    {
     "name": "stdout",
     "output_type": "stream",
     "text": [
      " Multiple Comparison of Means - Tukey HSD, FWER=0.05 \n",
      "=====================================================\n",
      "group1 group2 meandiff p-adj   lower    upper  reject\n",
      "-----------------------------------------------------\n",
      "     0     30  -7.9136 0.0313 -15.3408 -0.4865   True\n",
      "     0     60   1.2906    0.9  -6.1366  8.7177  False\n",
      "     0     90   0.8508    0.9  -6.5763   8.278  False\n",
      "     0    120    3.547 0.6439  -3.8801 10.9742  False\n",
      "    30     60   9.2042 0.0081   1.7771 16.6313   True\n",
      "    30     90   8.7645  0.013   1.3374 16.1916   True\n",
      "    30    120  11.4607  0.001   4.0335 18.8878   True\n",
      "    60     90  -0.4397    0.9  -7.8668  6.9874  False\n",
      "    60    120   2.2565    0.9  -5.1706  9.6836  False\n",
      "    90    120   2.6962 0.8238  -4.7309 10.1233  False\n",
      "-----------------------------------------------------\n"
     ]
    }
   ],
   "source": [
    "mc = statsmodels.stats.multicomp.MultiComparison(df['net'],df['sediments'])\n",
    "mc_results = mc.tukeyhsd()\n",
    "print(mc_results)"
   ]
  },
  {
   "cell_type": "code",
   "execution_count": 40,
   "metadata": {
    "hidden": true,
    "scrolled": true
   },
   "outputs": [
    {
     "name": "stdout",
     "output_type": "stream",
     "text": [
      "Multiple Comparison of Means - Tukey HSD, FWER=0.05\n",
      "===================================================\n",
      "group1 group2 meandiff p-adj   lower  upper  reject\n",
      "---------------------------------------------------\n",
      "     H      I   1.1119 0.8732 -4.5273 6.7512  False\n",
      "     H      L   2.7644 0.4719 -2.8749 8.4036  False\n",
      "     I      L   1.6524 0.7422 -3.9869 7.2917  False\n",
      "---------------------------------------------------\n"
     ]
    }
   ],
   "source": [
    "mc = statsmodels.stats.multicomp.MultiComparison(df['net'],df['nutrients'])\n",
    "mc_results = mc.tukeyhsd()\n",
    "print(mc_results)"
   ]
  },
  {
   "cell_type": "markdown",
   "metadata": {},
   "source": [
    "## AGBM Analyses"
   ]
  },
  {
   "cell_type": "markdown",
   "metadata": {
    "heading_collapsed": true
   },
   "source": [
    "## BGBM Analysis"
   ]
  },
  {
   "cell_type": "markdown",
   "metadata": {
    "hidden": true
   },
   "source": [
    "#### Two-way ANOVA"
   ]
  },
  {
   "cell_type": "code",
   "execution_count": 72,
   "metadata": {
    "hidden": true
   },
   "outputs": [],
   "source": [
    "df = pd.read_excel (r'C:\\Users\\molli\\Dropbox\\Publish\\Working Graphs for Publication_revised.xlsx', sheet_name='BGBM', index_col=0) \n",
    "df = pd.DataFrame(df, columns= ['Plot','lngcm3','sediments','nutrients'])"
   ]
  },
  {
   "cell_type": "code",
   "execution_count": 73,
   "metadata": {
    "hidden": true
   },
   "outputs": [
    {
     "data": {
      "image/png": "[encoded data removed]",
      "text/plain": [
       "<Figure size 432x288 with 1 Axes>"
      ]
     },
     "metadata": {
      "needs_background": "light"
     },
     "output_type": "display_data"
    }
   ],
   "source": [
    "ax = sns.pointplot(x='sediments', y='lngcm3', hue='nutrients', data=df)"
   ]
  },
  {
   "cell_type": "code",
   "execution_count": 74,
   "metadata": {
    "hidden": true
   },
   "outputs": [],
   "source": [
    "#df.boxplot(column='initialchanges', by='sediments');\n",
    "#sns.violinplot(x=\"sediments\", y=\"initialchanges\", data=df);"
   ]
  },
  {
   "cell_type": "code",
   "execution_count": 75,
   "metadata": {
    "hidden": true,
    "scrolled": false
   },
   "outputs": [
    {
     "name": "stdout",
     "output_type": "stream",
     "text": [
      "\n",
      "\n"
     ]
    },
    {
     "data": {
      "text/html": [
       "<div>\n",
       "<style scoped>\n",
       "    .dataframe tbody tr th:only-of-type {\n",
       "        vertical-align: middle;\n",
       "    }\n",
       "\n",
       "    .dataframe tbody tr th {\n",
       "        vertical-align: top;\n",
       "    }\n",
       "\n",
       "    .dataframe thead th {\n",
       "        text-align: right;\n",
       "    }\n",
       "</style>\n",
       "<table border=\"1\" class=\"dataframe\">\n",
       "  <thead>\n",
       "    <tr style=\"text-align: right;\">\n",
       "      <th></th>\n",
       "      <th>N</th>\n",
       "      <th>Mean</th>\n",
       "      <th>SD</th>\n",
       "      <th>SE</th>\n",
       "      <th>95% Conf.</th>\n",
       "      <th>Interval</th>\n",
       "    </tr>\n",
       "    <tr>\n",
       "      <th>sediments</th>\n",
       "      <th></th>\n",
       "      <th></th>\n",
       "      <th></th>\n",
       "      <th></th>\n",
       "      <th></th>\n",
       "      <th></th>\n",
       "    </tr>\n",
       "  </thead>\n",
       "  <tbody>\n",
       "    <tr>\n",
       "      <th>0</th>\n",
       "      <td>12</td>\n",
       "      <td>-7.1134</td>\n",
       "      <td>0.6321</td>\n",
       "      <td>0.1825</td>\n",
       "      <td>-7.5150</td>\n",
       "      <td>-6.7118</td>\n",
       "    </tr>\n",
       "    <tr>\n",
       "      <th>30</th>\n",
       "      <td>24</td>\n",
       "      <td>-6.3379</td>\n",
       "      <td>0.7935</td>\n",
       "      <td>0.1620</td>\n",
       "      <td>-6.6730</td>\n",
       "      <td>-6.0028</td>\n",
       "    </tr>\n",
       "    <tr>\n",
       "      <th>60</th>\n",
       "      <td>24</td>\n",
       "      <td>-6.8499</td>\n",
       "      <td>1.0521</td>\n",
       "      <td>0.2148</td>\n",
       "      <td>-7.2941</td>\n",
       "      <td>-6.4056</td>\n",
       "    </tr>\n",
       "    <tr>\n",
       "      <th>90</th>\n",
       "      <td>23</td>\n",
       "      <td>-6.9041</td>\n",
       "      <td>0.9788</td>\n",
       "      <td>0.2041</td>\n",
       "      <td>-7.3274</td>\n",
       "      <td>-6.4808</td>\n",
       "    </tr>\n",
       "    <tr>\n",
       "      <th>120</th>\n",
       "      <td>24</td>\n",
       "      <td>-6.8797</td>\n",
       "      <td>0.9934</td>\n",
       "      <td>0.2028</td>\n",
       "      <td>-7.2992</td>\n",
       "      <td>-6.4603</td>\n",
       "    </tr>\n",
       "  </tbody>\n",
       "</table>\n",
       "</div>"
      ],
      "text/plain": [
       "            N    Mean      SD      SE  95% Conf.  Interval\n",
       "sediments                                                 \n",
       "0          12 -7.1134  0.6321  0.1825    -7.5150   -6.7118\n",
       "30         24 -6.3379  0.7935  0.1620    -6.6730   -6.0028\n",
       "60         24 -6.8499  1.0521  0.2148    -7.2941   -6.4056\n",
       "90         23 -6.9041  0.9788  0.2041    -7.3274   -6.4808\n",
       "120        24 -6.8797  0.9934  0.2028    -7.2992   -6.4603"
      ]
     },
     "execution_count": 75,
     "metadata": {},
     "output_type": "execute_result"
    }
   ],
   "source": [
    "rp.summary_cont(df['lngcm3'].groupby(df['sediments']))"
   ]
  },
  {
   "cell_type": "code",
   "execution_count": 76,
   "metadata": {
    "hidden": true
   },
   "outputs": [
    {
     "data": {
      "text/html": [
       "<table class=\"simpletable\">\n",
       "<caption>OLS Regression Results</caption>\n",
       "<tr>\n",
       "  <th>Dep. Variable:</th>         <td>lngcm3</td>      <th>  R-squared:         </th> <td>   0.130</td>\n",
       "</tr>\n",
       "<tr>\n",
       "  <th>Model:</th>                   <td>OLS</td>       <th>  Adj. R-squared:    </th> <td>  -0.003</td>\n",
       "</tr>\n",
       "<tr>\n",
       "  <th>Method:</th>             <td>Least Squares</td>  <th>  F-statistic:       </th> <td>  0.9799</td>\n",
       "</tr>\n",
       "<tr>\n",
       "  <th>Date:</th>             <td>Sun, 19 Jul 2020</td> <th>  Prob (F-statistic):</th>  <td> 0.480</td> \n",
       "</tr>\n",
       "<tr>\n",
       "  <th>Time:</th>                 <td>22:07:39</td>     <th>  Log-Likelihood:    </th> <td> -137.94</td>\n",
       "</tr>\n",
       "<tr>\n",
       "  <th>No. Observations:</th>      <td>   107</td>      <th>  AIC:               </th> <td>   305.9</td>\n",
       "</tr>\n",
       "<tr>\n",
       "  <th>Df Residuals:</th>          <td>    92</td>      <th>  BIC:               </th> <td>   346.0</td>\n",
       "</tr>\n",
       "<tr>\n",
       "  <th>Df Model:</th>              <td>    14</td>      <th>                     </th>     <td> </td>   \n",
       "</tr>\n",
       "<tr>\n",
       "  <th>Covariance Type:</th>      <td>nonrobust</td>    <th>                     </th>     <td> </td>   \n",
       "</tr>\n",
       "</table>\n",
       "<table class=\"simpletable\">\n",
       "<tr>\n",
       "                    <td></td>                       <th>coef</th>     <th>std err</th>      <th>t</th>      <th>P>|t|</th>  <th>[0.025</th>    <th>0.975]</th>  \n",
       "</tr>\n",
       "<tr>\n",
       "  <th>Intercept</th>                             <td>   -7.2190</td> <td>    0.474</td> <td>  -15.243</td> <td> 0.000</td> <td>   -8.160</td> <td>   -6.278</td>\n",
       "</tr>\n",
       "<tr>\n",
       "  <th>C(sediments)[T.30]</th>                    <td>    0.8084</td> <td>    0.580</td> <td>    1.394</td> <td> 0.167</td> <td>   -0.344</td> <td>    1.960</td>\n",
       "</tr>\n",
       "<tr>\n",
       "  <th>C(sediments)[T.60]</th>                    <td>    0.7487</td> <td>    0.580</td> <td>    1.291</td> <td> 0.200</td> <td>   -0.403</td> <td>    1.901</td>\n",
       "</tr>\n",
       "<tr>\n",
       "  <th>C(sediments)[T.90]</th>                    <td>    0.4419</td> <td>    0.580</td> <td>    0.762</td> <td> 0.448</td> <td>   -0.710</td> <td>    1.594</td>\n",
       "</tr>\n",
       "<tr>\n",
       "  <th>C(sediments)[T.120]</th>                   <td>    0.7545</td> <td>    0.580</td> <td>    1.301</td> <td> 0.197</td> <td>   -0.397</td> <td>    1.907</td>\n",
       "</tr>\n",
       "<tr>\n",
       "  <th>C(nutrients)[T.I]</th>                     <td>   -0.1007</td> <td>    0.670</td> <td>   -0.150</td> <td> 0.881</td> <td>   -1.431</td> <td>    1.229</td>\n",
       "</tr>\n",
       "<tr>\n",
       "  <th>C(nutrients)[T.L]</th>                     <td>    0.4173</td> <td>    0.670</td> <td>    0.623</td> <td> 0.535</td> <td>   -0.913</td> <td>    1.748</td>\n",
       "</tr>\n",
       "<tr>\n",
       "  <th>C(sediments)[T.30]:C(nutrients)[T.I]</th>  <td>    0.2630</td> <td>    0.820</td> <td>    0.321</td> <td> 0.749</td> <td>   -1.366</td> <td>    1.892</td>\n",
       "</tr>\n",
       "<tr>\n",
       "  <th>C(sediments)[T.60]:C(nutrients)[T.I]</th>  <td>   -0.3032</td> <td>    0.820</td> <td>   -0.370</td> <td> 0.713</td> <td>   -1.932</td> <td>    1.326</td>\n",
       "</tr>\n",
       "<tr>\n",
       "  <th>C(sediments)[T.90]:C(nutrients)[T.I]</th>  <td>    0.0138</td> <td>    0.830</td> <td>    0.017</td> <td> 0.987</td> <td>   -1.635</td> <td>    1.662</td>\n",
       "</tr>\n",
       "<tr>\n",
       "  <th>C(sediments)[T.120]:C(nutrients)[T.I]</th> <td>   -0.6531</td> <td>    0.820</td> <td>   -0.796</td> <td> 0.428</td> <td>   -2.282</td> <td>    0.976</td>\n",
       "</tr>\n",
       "<tr>\n",
       "  <th>C(sediments)[T.30]:C(nutrients)[T.L]</th>  <td>   -0.3615</td> <td>    0.820</td> <td>   -0.441</td> <td> 0.660</td> <td>   -1.991</td> <td>    1.268</td>\n",
       "</tr>\n",
       "<tr>\n",
       "  <th>C(sediments)[T.60]:C(nutrients)[T.L]</th>  <td>   -1.1521</td> <td>    0.820</td> <td>   -1.405</td> <td> 0.164</td> <td>   -2.781</td> <td>    0.477</td>\n",
       "</tr>\n",
       "<tr>\n",
       "  <th>C(sediments)[T.90]:C(nutrients)[T.L]</th>  <td>   -0.7066</td> <td>    0.820</td> <td>   -0.861</td> <td> 0.391</td> <td>   -2.336</td> <td>    0.923</td>\n",
       "</tr>\n",
       "<tr>\n",
       "  <th>C(sediments)[T.120]:C(nutrients)[T.L]</th> <td>   -0.9094</td> <td>    0.820</td> <td>   -1.109</td> <td> 0.270</td> <td>   -2.539</td> <td>    0.720</td>\n",
       "</tr>\n",
       "</table>\n",
       "<table class=\"simpletable\">\n",
       "<tr>\n",
       "  <th>Omnibus:</th>       <td> 2.999</td> <th>  Durbin-Watson:     </th> <td>   2.575</td>\n",
       "</tr>\n",
       "<tr>\n",
       "  <th>Prob(Omnibus):</th> <td> 0.223</td> <th>  Jarque-Bera (JB):  </th> <td>   2.936</td>\n",
       "</tr>\n",
       "<tr>\n",
       "  <th>Skew:</th>          <td> 0.398</td> <th>  Prob(JB):          </th> <td>   0.230</td>\n",
       "</tr>\n",
       "<tr>\n",
       "  <th>Kurtosis:</th>      <td> 2.846</td> <th>  Cond. No.          </th> <td>    28.4</td>\n",
       "</tr>\n",
       "</table><br/><br/>Warnings:<br/>[1] Standard Errors assume that the covariance matrix of the errors is correctly specified."
      ],
      "text/plain": [
       "<class 'statsmodels.iolib.summary.Summary'>\n",
       "\"\"\"\n",
       "                            OLS Regression Results                            \n",
       "==============================================================================\n",
       "Dep. Variable:                 lngcm3   R-squared:                       0.130\n",
       "Model:                            OLS   Adj. R-squared:                 -0.003\n",
       "Method:                 Least Squares   F-statistic:                    0.9799\n",
       "Date:                Sun, 19 Jul 2020   Prob (F-statistic):              0.480\n",
       "Time:                        22:07:39   Log-Likelihood:                -137.94\n",
       "No. Observations:                 107   AIC:                             305.9\n",
       "Df Residuals:                      92   BIC:                             346.0\n",
       "Df Model:                          14                                         \n",
       "Covariance Type:            nonrobust                                         \n",
       "=========================================================================================================\n",
       "                                            coef    std err          t      P>|t|      [0.025      0.975]\n",
       "---------------------------------------------------------------------------------------------------------\n",
       "Intercept                                -7.2190      0.474    -15.243      0.000      -8.160      -6.278\n",
       "C(sediments)[T.30]                        0.8084      0.580      1.394      0.167      -0.344       1.960\n",
       "C(sediments)[T.60]                        0.7487      0.580      1.291      0.200      -0.403       1.901\n",
       "C(sediments)[T.90]                        0.4419      0.580      0.762      0.448      -0.710       1.594\n",
       "C(sediments)[T.120]                       0.7545      0.580      1.301      0.197      -0.397       1.907\n",
       "C(nutrients)[T.I]                        -0.1007      0.670     -0.150      0.881      -1.431       1.229\n",
       "C(nutrients)[T.L]                         0.4173      0.670      0.623      0.535      -0.913       1.748\n",
       "C(sediments)[T.30]:C(nutrients)[T.I]      0.2630      0.820      0.321      0.749      -1.366       1.892\n",
       "C(sediments)[T.60]:C(nutrients)[T.I]     -0.3032      0.820     -0.370      0.713      -1.932       1.326\n",
       "C(sediments)[T.90]:C(nutrients)[T.I]      0.0138      0.830      0.017      0.987      -1.635       1.662\n",
       "C(sediments)[T.120]:C(nutrients)[T.I]    -0.6531      0.820     -0.796      0.428      -2.282       0.976\n",
       "C(sediments)[T.30]:C(nutrients)[T.L]     -0.3615      0.820     -0.441      0.660      -1.991       1.268\n",
       "C(sediments)[T.60]:C(nutrients)[T.L]     -1.1521      0.820     -1.405      0.164      -2.781       0.477\n",
       "C(sediments)[T.90]:C(nutrients)[T.L]     -0.7066      0.820     -0.861      0.391      -2.336       0.923\n",
       "C(sediments)[T.120]:C(nutrients)[T.L]    -0.9094      0.820     -1.109      0.270      -2.539       0.720\n",
       "==============================================================================\n",
       "Omnibus:                        2.999   Durbin-Watson:                   2.575\n",
       "Prob(Omnibus):                  0.223   Jarque-Bera (JB):                2.936\n",
       "Skew:                           0.398   Prob(JB):                        0.230\n",
       "Kurtosis:                       2.846   Cond. No.                         28.4\n",
       "==============================================================================\n",
       "\n",
       "Warnings:\n",
       "[1] Standard Errors assume that the covariance matrix of the errors is correctly specified.\n",
       "\"\"\""
      ]
     },
     "execution_count": 76,
     "metadata": {},
     "output_type": "execute_result"
    }
   ],
   "source": [
    "#Approach 2 - Check the interaction of groups\n",
    "formula = 'lngcm3 ~ C(sediments) *C(nutrients)'\n",
    "model = ols(formula, df).fit()\n",
    "model.summary()"
   ]
  },
  {
   "cell_type": "code",
   "execution_count": 77,
   "metadata": {
    "hidden": true
   },
   "outputs": [
    {
     "name": "stdout",
     "output_type": "stream",
     "text": [
      "                            sum_sq    df       F  PR(>F)\n",
      "C(sediments)                6.7525   4.0  1.8817  0.1203\n",
      "C(nutrients)                1.7093   2.0  0.9526  0.3895\n",
      "C(sediments):C(nutrients)   3.8648   8.0  0.5385  0.8247\n",
      "Residual                   82.5371  92.0     NaN     NaN\n"
     ]
    }
   ],
   "source": [
    "res2 = sm.stats.anova_lm(model, typ=2)\n",
    "print(res2.round(4))"
   ]
  },
  {
   "cell_type": "markdown",
   "metadata": {
    "hidden": true
   },
   "source": [
    "#### Normality Assumption Check"
   ]
  },
  {
   "cell_type": "code",
   "execution_count": 36,
   "metadata": {
    "hidden": true
   },
   "outputs": [
    {
     "name": "stdout",
     "output_type": "stream",
     "text": [
      "0.9703836441040039 0.15236896276474\n"
     ]
    }
   ],
   "source": [
    "w, pvalue = stats.shapiro(model.resid)\n",
    "print(w, pvalue)\n",
    "#p-value is >0.05 for all groups, hence, we can conclude that they follow the Gaussian Distribution"
   ]
  },
  {
   "cell_type": "code",
   "execution_count": 37,
   "metadata": {
    "hidden": true
   },
   "outputs": [
    {
     "data": {
      "image/png": "[encoded data removed]",
      "text/plain": [
       "<Figure size 432x288 with 1 Axes>"
      ]
     },
     "metadata": {
      "needs_background": "light"
     },
     "output_type": "display_data"
    }
   ],
   "source": [
    "# QQ Plot Test\n",
    "#Check the Normal distribution of residuals\n",
    "res = model.resid\n",
    "fig = sm.qqplot(res, line='s')\n",
    "plt.show()"
   ]
  },
  {
   "cell_type": "markdown",
   "metadata": {
    "hidden": true
   },
   "source": [
    "#### Homogeneity Check"
   ]
  },
  {
   "cell_type": "code",
   "execution_count": null,
   "metadata": {
    "hidden": true
   },
   "outputs": [],
   "source": []
  },
  {
   "cell_type": "markdown",
   "metadata": {
    "hidden": true
   },
   "source": [
    "#### Post-hoc Check"
   ]
  },
  {
   "cell_type": "code",
   "execution_count": 39,
   "metadata": {
    "hidden": true
   },
   "outputs": [
    {
     "name": "stdout",
     "output_type": "stream",
     "text": [
      " Multiple Comparison of Means - Tukey HSD, FWER=0.05 \n",
      "=====================================================\n",
      "group1 group2 meandiff p-adj   lower    upper  reject\n",
      "-----------------------------------------------------\n",
      "     0     30  -7.9136 0.0313 -15.3408 -0.4865   True\n",
      "     0     60   1.2906    0.9  -6.1366  8.7177  False\n",
      "     0     90   0.8508    0.9  -6.5763   8.278  False\n",
      "     0    120    3.547 0.6439  -3.8801 10.9742  False\n",
      "    30     60   9.2042 0.0081   1.7771 16.6313   True\n",
      "    30     90   8.7645  0.013   1.3374 16.1916   True\n",
      "    30    120  11.4607  0.001   4.0335 18.8878   True\n",
      "    60     90  -0.4397    0.9  -7.8668  6.9874  False\n",
      "    60    120   2.2565    0.9  -5.1706  9.6836  False\n",
      "    90    120   2.6962 0.8238  -4.7309 10.1233  False\n",
      "-----------------------------------------------------\n"
     ]
    }
   ],
   "source": [
    "mc = statsmodels.stats.multicomp.MultiComparison(df['net'],df['sediments'])\n",
    "mc_results = mc.tukeyhsd()\n",
    "print(mc_results)"
   ]
  },
  {
   "cell_type": "code",
   "execution_count": 40,
   "metadata": {
    "hidden": true,
    "scrolled": true
   },
   "outputs": [
    {
     "name": "stdout",
     "output_type": "stream",
     "text": [
      "Multiple Comparison of Means - Tukey HSD, FWER=0.05\n",
      "===================================================\n",
      "group1 group2 meandiff p-adj   lower  upper  reject\n",
      "---------------------------------------------------\n",
      "     H      I   1.1119 0.8732 -4.5273 6.7512  False\n",
      "     H      L   2.7644 0.4719 -2.8749 8.4036  False\n",
      "     I      L   1.6524 0.7422 -3.9869 7.2917  False\n",
      "---------------------------------------------------\n"
     ]
    }
   ],
   "source": [
    "mc = statsmodels.stats.multicomp.MultiComparison(df['net'],df['nutrients'])\n",
    "mc_results = mc.tukeyhsd()\n",
    "print(mc_results)"
   ]
  },
  {
   "cell_type": "markdown",
   "metadata": {},
   "source": [
    "## Decomposition Analysis"
   ]
  },
  {
   "cell_type": "markdown",
   "metadata": {},
   "source": [
    "## Physicochemical Conditions Analyses"
   ]
  },
  {
   "cell_type": "markdown",
   "metadata": {},
   "source": [
    "## Nutrient Analyses"
   ]
  },
  {
   "cell_type": "markdown",
   "metadata": {
    "heading_collapsed": true
   },
   "source": [
    "## Citations"
   ]
  },
  {
   "cell_type": "markdown",
   "metadata": {
    "hidden": true
   },
   "source": [
    "https://www.analyticsvidhya.com/blog/2020/06/introduction-anova-statistics-data-science-covid-python/\n",
    "https://github.com/marsja/jupyter/blob/master/Python_ANOVA/Python_ANOVA_Factorial_Using_Statsmodels.ipynb\n",
    "https://github.com/VaibhawKumar/Advanced-Da/blob/master/untitled76.py\n",
    "https://stackoverflow.com/questions/49963138/label-groups-from-tuekys-test-results-according-to-significant\n",
    "https://github.com/faragunaj/white-pipeline/blob/0d81ce39205d9763839bdad993f099fc3124d2df/modules.py\n",
    "https://github.com/search?l=Python&q=levene+test+2+way&type=Code"
   ]
  },
  {
   "cell_type": "code",
   "execution_count": null,
   "metadata": {
    "hidden": true
   },
   "outputs": [],
   "source": []
  }
 ],
 "metadata": {
  "kernelspec": {
   "display_name": "Python 3",
   "language": "python",
   "name": "python3"
  },
  "language_info": {
   "codemirror_mode": {
    "name": "ipython",
    "version": 3
   },
   "file_extension": ".py",
   "mimetype": "text/x-python",
   "name": "python",
   "nbconvert_exporter": "python",
   "pygments_lexer": "ipython3",
   "version": "3.7.1"
  },
  "toc": {
   "base_numbering": 1,
   "nav_menu": {},
   "number_sections": true,
   "sideBar": true,
   "skip_h1_title": false,
   "title_cell": "Table of Contents",
   "title_sidebar": "Contents",
   "toc_cell": false,
   "toc_position": {},
   "toc_section_display": true,
   "toc_window_display": true
  }
 },
 "nbformat": 4,
 "nbformat_minor": 4
}
